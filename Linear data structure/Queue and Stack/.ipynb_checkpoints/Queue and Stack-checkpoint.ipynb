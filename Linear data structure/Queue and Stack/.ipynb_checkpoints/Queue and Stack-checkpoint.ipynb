{
 "cells": [
  {
   "cell_type": "markdown",
   "id": "8591d26c-72dc-452e-a64e-f9deb4081e25",
   "metadata": {},
   "source": [
    "# Queue"
   ]
  },
  {
   "cell_type": "code",
   "execution_count": 1,
   "id": "4b0ac236-baa4-4853-a268-04b49aab7797",
   "metadata": {},
   "outputs": [
    {
     "name": "stdout",
     "output_type": "stream",
     "text": [
      "[10, 20, 30]\n",
      "Dequeued: 10\n",
      "[20, 30]\n"
     ]
    }
   ],
   "source": [
    "from collections import deque\n",
    "\n",
    "class QueueDeque:\n",
    "    def __init__(self):\n",
    "        self.queue = deque()\n",
    "\n",
    "    def enqueue(self, data):\n",
    "        self.queue.append(data)  # O(1)\n",
    "\n",
    "    def dequeue(self):\n",
    "        if not self.is_empty():\n",
    "            return self.queue.popleft()  # O(1)\n",
    "        return \"Queue is empty\"\n",
    "\n",
    "    def peek(self):\n",
    "        if not self.is_empty():\n",
    "            return self.queue[0]\n",
    "        return \"Queue is empty\"\n",
    "\n",
    "    def is_empty(self):\n",
    "        return len(self.queue) == 0\n",
    "\n",
    "    def display(self):\n",
    "        print(list(self.queue))\n",
    "\n",
    "# Example usage\n",
    "q = QueueDeque()\n",
    "q.enqueue(10)\n",
    "q.enqueue(20)\n",
    "q.enqueue(30)\n",
    "q.display()\n",
    "print(\"Dequeued:\", q.dequeue())\n",
    "q.display()\n"
   ]
  },
  {
   "cell_type": "markdown",
   "id": "8fae5d29-47a4-43c4-80d2-a8afa442fc09",
   "metadata": {},
   "source": [
    "# Stack"
   ]
  },
  {
   "cell_type": "code",
   "execution_count": 2,
   "id": "85c5739a-c9c4-42cd-ac40-c891161ea7d2",
   "metadata": {},
   "outputs": [
    {
     "name": "stdout",
     "output_type": "stream",
     "text": [
      "[30, 20, 10]\n",
      "Popped: 30\n",
      "[20, 10]\n"
     ]
    }
   ],
   "source": [
    "class StackArray:\n",
    "    def __init__(self):\n",
    "        self.stack = []\n",
    "\n",
    "    def push(self, data):\n",
    "        self.stack.append(data)  # O(1)\n",
    "\n",
    "    def pop(self):\n",
    "        if not self.is_empty():\n",
    "            return self.stack.pop()  # O(1)\n",
    "        return \"Stack is empty\"\n",
    "\n",
    "    def peek(self):\n",
    "        if not self.is_empty():\n",
    "            return self.stack[-1]\n",
    "        return \"Stack is empty\"\n",
    "\n",
    "    def is_empty(self):\n",
    "        return len(self.stack) == 0\n",
    "\n",
    "    def display(self):\n",
    "        print(self.stack[::-1])  # Show stack top to bottom\n",
    "\n",
    "# Example usage\n",
    "s = StackArray()\n",
    "s.push(10)\n",
    "s.push(20)\n",
    "s.push(30)\n",
    "s.display()\n",
    "print(\"Popped:\", s.pop())\n",
    "s.display()\n"
   ]
  },
  {
   "cell_type": "markdown",
   "id": "6e33bd18-e81e-4144-9e74-2faf4d07ec85",
   "metadata": {},
   "source": [
    "# Stack to Queue"
   ]
  },
  {
   "cell_type": "code",
   "execution_count": 3,
   "id": "ca737e3e-572f-4248-9516-2b17bfd7da06",
   "metadata": {},
   "outputs": [
    {
     "name": "stdout",
     "output_type": "stream",
     "text": [
      "[1000, 100, 100, 10, 1]\n",
      "[1000, 100, 100, 10]\n"
     ]
    }
   ],
   "source": [
    "class queue:\n",
    "    def __init__(self):\n",
    "        self.stack1=[]\n",
    "        self.stack2=[]\n",
    "    def enque(self,value):\n",
    "        while len(self.stack1)>0:\n",
    "            self.stack2.append(self.stack1.pop())\n",
    "        self.stack1.append(value)\n",
    "        while len(self.stack2)>0:\n",
    "            self.stack1.append(self.stack2.pop())\n",
    "    def dequeue(self):\n",
    "        if len(self.stack1)==0:\n",
    "            print('empty')\n",
    "            return\n",
    "        self.stack1.pop()\n",
    "    def display(self):\n",
    "        print(self.stack1)\n",
    "q=queue()\n",
    "q.enque(1)\n",
    "q.enque(10)\n",
    "q.enque(100)\n",
    "q.enque(100)\n",
    "q.enque(1000)\n",
    "q.display()\n",
    "q.dequeue()\n",
    "q.display()"
   ]
  },
  {
   "cell_type": "markdown",
   "id": "606e3308-6d34-41d9-a264-daec60b03fe4",
   "metadata": {},
   "source": [
    "# Queue to Stack"
   ]
  },
  {
   "cell_type": "code",
   "execution_count": 8,
   "id": "315d2f91-dc1e-4f55-9a7b-7ded4145cf8c",
   "metadata": {},
   "outputs": [
    {
     "name": "stdout",
     "output_type": "stream",
     "text": [
      "Stack after pushes:\n",
      "[30, 20, 10]\n",
      "Popped element: None\n",
      "Stack after pop:\n",
      "[20, 10]\n",
      "Popped element: None\n",
      "Final stack state:\n",
      "[10]\n"
     ]
    }
   ],
   "source": [
    "class stack:\n",
    "    def __init__(self):\n",
    "        self.qu1=[]\n",
    "        self.qu2=[]\n",
    "    def push(self,value):\n",
    "        self.qu2.append(value)\n",
    "        while len(self.qu1)>0:\n",
    "            self.qu2.append(self.qu1.pop(0))\n",
    "        self.qu1,self.qu2=self.qu2,self.qu1\n",
    "    def pop(self):\n",
    "        if len(self.qu1)==0:\n",
    "            return None\n",
    "        self.qu1.pop(0)\n",
    "    def display(self):\n",
    "        print(self.qu1)\n",
    "\n",
    "s = stack()\n",
    "\n",
    "s.push(10)\n",
    "s.push(20)\n",
    "s.push(30)\n",
    "\n",
    "print(\"Stack after pushes:\")\n",
    "s.display()\n",
    "\n",
    "print(\"Popped element:\", s.pop())\n",
    "\n",
    "print(\"Stack after pop:\")\n",
    "s.display()\n",
    "\n",
    "\n",
    "print(\"Popped element:\", s.pop())\n",
    "\n",
    "\n",
    "print(\"Final stack state:\")\n",
    "s.display()"
   ]
  },
  {
   "cell_type": "code",
   "execution_count": null,
   "id": "c0805233-69ff-40d6-b19d-dc5c4d32315b",
   "metadata": {},
   "outputs": [],
   "source": []
  }
 ],
 "metadata": {
  "kernelspec": {
   "display_name": "Python 3 (ipykernel)",
   "language": "python",
   "name": "python3"
  },
  "language_info": {
   "codemirror_mode": {
    "name": "ipython",
    "version": 3
   },
   "file_extension": ".py",
   "mimetype": "text/x-python",
   "name": "python",
   "nbconvert_exporter": "python",
   "pygments_lexer": "ipython3",
   "version": "3.12.7"
  }
 },
 "nbformat": 4,
 "nbformat_minor": 5
}
