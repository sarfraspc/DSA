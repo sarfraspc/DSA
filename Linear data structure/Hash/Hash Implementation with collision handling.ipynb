{
 "cells": [
  {
   "cell_type": "markdown",
   "id": "e0e46ba0-56e6-495c-9c55-de8e34309eef",
   "metadata": {},
   "source": [
    "# By Using Array"
   ]
  },
  {
   "cell_type": "code",
   "execution_count": 1,
   "id": "54969763-ceb9-48a3-9470-47da1adc5e0b",
   "metadata": {},
   "outputs": [
    {
     "name": "stdout",
     "output_type": "stream",
     "text": [
      "Index 0: None\n",
      "Index 1: None\n",
      "Index 2: Banana\n",
      "Index 3: None\n",
      "Index 4: None\n",
      "Index 5: None\n",
      "Index 6: None\n",
      "Index 7: None\n",
      "Index 8: None\n",
      "Index 9: None\n",
      "Get 12: Banana\n"
     ]
    }
   ],
   "source": [
    "class HashTableArray:\n",
    "    def __init__(self, size):\n",
    "        self.size = size\n",
    "        self.table = [None] * size  # Array-based storage\n",
    "\n",
    "    def hash_function(self, key):\n",
    "        return key % self.size  # Simple Modulo Hash\n",
    "\n",
    "    def insert(self, key, value):\n",
    "        index = self.hash_function(key)\n",
    "        self.table[index] = value  # O(1)\n",
    "\n",
    "    def get(self, key):\n",
    "        index = self.hash_function(key)\n",
    "        return self.table[index] if self.table[index] is not None else \"Key not found\"\n",
    "\n",
    "    def display(self):\n",
    "        for i, val in enumerate(self.table):\n",
    "            print(f\"Index {i}: {val}\")\n",
    "\n",
    "# Example usage\n",
    "ht = HashTableArray(10)\n",
    "ht.insert(12, \"Apple\")\n",
    "ht.insert(22, \"Banana\")\n",
    "ht.display()\n",
    "print(\"Get 12:\", ht.get(12))\n"
   ]
  },
  {
   "cell_type": "markdown",
   "id": "816a49a6-6e6f-4975-8889-d98e57b0fe9a",
   "metadata": {},
   "source": [
    "# By Linkedlist"
   ]
  },
  {
   "cell_type": "code",
   "execution_count": 2,
   "id": "52bc551e-2fe5-4548-bcbf-3c6b3db4a213",
   "metadata": {},
   "outputs": [
    {
     "name": "stdout",
     "output_type": "stream",
     "text": [
      "Index 0: None\n",
      "Index 1: None\n",
      "Index 2: (12, Apple) -> (22, Banana) -> (32, Cherry)\n",
      "Index 3: None\n",
      "Index 4: None\n",
      "Index 5: None\n",
      "Index 6: None\n",
      "Index 7: None\n",
      "Index 8: None\n",
      "Index 9: None\n",
      "Get 22: Banana\n"
     ]
    }
   ],
   "source": [
    "class Node:\n",
    "    def __init__(self, key, value):\n",
    "        self.key = key\n",
    "        self.value = value\n",
    "        self.next = None\n",
    "\n",
    "class HashTableChaining:\n",
    "    def __init__(self, size):\n",
    "        self.size = size\n",
    "        self.table = [None] * size  # Array storing head nodes\n",
    "\n",
    "    def hash_function(self, key):\n",
    "        return key % self.size\n",
    "\n",
    "    def insert(self, key, value):\n",
    "        index = self.hash_function(key)\n",
    "        new_node = Node(key, value)\n",
    "\n",
    "        if self.table[index] is None:\n",
    "            self.table[index] = new_node\n",
    "        else:\n",
    "            current = self.table[index]\n",
    "            while current:\n",
    "                if current.key == key:  # If key exists, update value\n",
    "                    current.value = value\n",
    "                    return\n",
    "                if current.next is None:\n",
    "                    break\n",
    "                current = current.next\n",
    "            current.next = new_node  # Insert at the end\n",
    "\n",
    "    def get(self, key):\n",
    "        index = self.hash_function(key)\n",
    "        current = self.table[index]\n",
    "        while current:\n",
    "            if current.key == key:\n",
    "                return current.value\n",
    "            current = current.next\n",
    "        return \"Key not found\"\n",
    "\n",
    "    def display(self):\n",
    "        for i, node in enumerate(self.table):\n",
    "            values = []\n",
    "            current = node\n",
    "            while current:\n",
    "                values.append(f\"({current.key}, {current.value})\")\n",
    "                current = current.next\n",
    "            print(f\"Index {i}: {' -> '.join(values) if values else None}\")\n",
    "\n",
    "# Example usage\n",
    "ht = HashTableChaining(10)\n",
    "ht.insert(12, \"Apple\")\n",
    "ht.insert(22, \"Banana\")  # Collision handled by chaining\n",
    "ht.insert(32, \"Cherry\")  # Another collision handled\n",
    "ht.display()\n",
    "print(\"Get 22:\", ht.get(22))\n"
   ]
  },
  {
   "cell_type": "code",
   "execution_count": null,
   "id": "fb57d569-1388-4ac5-969d-04cd4fe1070d",
   "metadata": {},
   "outputs": [],
   "source": []
  }
 ],
 "metadata": {
  "kernelspec": {
   "display_name": "Python 3 (ipykernel)",
   "language": "python",
   "name": "python3"
  },
  "language_info": {
   "codemirror_mode": {
    "name": "ipython",
    "version": 3
   },
   "file_extension": ".py",
   "mimetype": "text/x-python",
   "name": "python",
   "nbconvert_exporter": "python",
   "pygments_lexer": "ipython3",
   "version": "3.12.7"
  }
 },
 "nbformat": 4,
 "nbformat_minor": 5
}
