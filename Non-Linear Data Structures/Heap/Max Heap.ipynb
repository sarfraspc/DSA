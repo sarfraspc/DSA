{
 "cells": [
  {
   "cell_type": "markdown",
   "id": "7b7ff024-2b84-40ba-8694-c1240e6eed20",
   "metadata": {},
   "source": [
    "# MAX HEAP"
   ]
  },
  {
   "cell_type": "code",
   "execution_count": 1,
   "id": "8fb8eba9-57eb-4929-91d2-effae316a08a",
   "metadata": {},
   "outputs": [
    {
     "name": "stdout",
     "output_type": "stream",
     "text": [
      "[30, 25, 20, 4, 10]\n",
      "[25, 10, 20, 4]\n",
      "4\n",
      "25\n"
     ]
    }
   ],
   "source": [
    "class MaxHeap:\n",
    "    def __init__(self) -> None:\n",
    "        self.heap = []\n",
    "\n",
    "    def insert(self, value):\n",
    "        self.heap.append(value)\n",
    "        self._heapify_up(len(self.heap) - 1)\n",
    "\n",
    "    def _heapify_up(self, idx):\n",
    "        parent_idx = (idx - 1)//2\n",
    "        if idx > 0 and self.heap[parent_idx] < self.heap[idx]:\n",
    "            self.heap[parent_idx], self.heap[idx] = self.heap[idx], self.heap[parent_idx]\n",
    "            self._heapify_up(parent_idx)\n",
    "\n",
    "    def delete(self):\n",
    "        if not self.heap:\n",
    "            return False\n",
    "        if len(self.heap) == 1:\n",
    "            return self.heap.pop()\n",
    "        del_node = self.heap[0]\n",
    "        self.heap[0] = self.heap.pop()\n",
    "        self._heapify_down(0)\n",
    "        return del_node\n",
    "\n",
    "    def _heapify_down(self, idx):\n",
    "        large_idx = idx\n",
    "        left_idx = 2 * idx + 1\n",
    "        right_idx = 2 * idx + 2\n",
    "        if left_idx < len(self.heap) and self.heap[large_idx] < self.heap[left_idx]:\n",
    "            large_idx = left_idx\n",
    "        if right_idx < len(self.heap) and self.heap[large_idx] < self.heap[right_idx]:\n",
    "            large_idx = right_idx\n",
    "        if large_idx != idx:\n",
    "            self.heap[large_idx], self.heap[idx] = self.heap[idx], self.heap[large_idx]\n",
    "            self._heapify_down(large_idx)\n",
    "\n",
    "    def peek(self):\n",
    "        if self.heap:\n",
    "            return self.heap[0]\n",
    "        else:\n",
    "            return None\n",
    "\n",
    "    def get_heap(self):\n",
    "        return self.heap\n",
    "\n",
    "    def clear(self):\n",
    "        self.heap = []\n",
    "\n",
    "    def get_size(self):\n",
    "        return len(self.heap)\n",
    "\n",
    "    def isEmpty(self):\n",
    "        return len(self.heap) == 0\n",
    "\n",
    "\n",
    "max_heap = MaxHeap()\n",
    "max_heap.insert(10)\n",
    "max_heap.insert(20)\n",
    "max_heap.insert(30)\n",
    "max_heap.insert(4)\n",
    "max_heap.insert(25)\n",
    "heap_values = max_heap.get_heap()\n",
    "print(heap_values)\n",
    "max_heap.delete()\n",
    "heap_values = max_heap.get_heap()\n",
    "print(heap_values)\n",
    "print(max_heap.get_size())\n",
    "print(max_heap.peek())"
   ]
  },
  {
   "cell_type": "markdown",
   "id": "76124f71-6deb-4c16-b283-5aec11cb0f29",
   "metadata": {},
   "source": [
    "## inbuild Way"
   ]
  },
  {
   "cell_type": "code",
   "execution_count": 1,
   "id": "2c13c30c-5097-4202-9152-a69207f04113",
   "metadata": {},
   "outputs": [
    {
     "name": "stdout",
     "output_type": "stream",
     "text": [
      "Heap: [30, 25, 20, 4, 10]\n",
      "Deleted: 30\n",
      "Heap after delete: [25, 10, 20, 4]\n",
      "Built Heap: [10, 3, 5, 1, 2]\n",
      "Heap Sort Result: [10, 5, 3, 2, 1]\n"
     ]
    }
   ],
   "source": [
    "import heapq\n",
    "\n",
    "class InbuiltMaxHeap:\n",
    "    def __init__(self):\n",
    "        self.heap = []  # Python heapq is a MinHeap, so we store negative values\n",
    "\n",
    "    def insert(self, value):\n",
    "        heapq.heappush(self.heap, -value)  # Push negative value to simulate MaxHeap\n",
    "\n",
    "    def delete(self):\n",
    "        if self.heap:\n",
    "            return -heapq.heappop(self.heap)  # Pop and return as positive\n",
    "        return None\n",
    "\n",
    "    def peek(self):\n",
    "        if self.heap:\n",
    "            return -self.heap[0]  # Peek max element\n",
    "        return None\n",
    "\n",
    "    def get_heap(self):\n",
    "        return [-val for val in self.heap]  # Convert back to normal values\n",
    "\n",
    "    def build_heap(self, arr):\n",
    "        self.heap = [-val for val in arr]  # Convert all values to negative\n",
    "        heapq.heapify(self.heap)  # Heapify in O(n)\n",
    "\n",
    "    def heap_sort(self):\n",
    "        sorted_list = []\n",
    "        while self.heap:\n",
    "            sorted_list.append(-heapq.heappop(self.heap))  # Extract max one by one\n",
    "        return sorted_list\n",
    "\n",
    "\n",
    "# Example Usage\n",
    "max_heap = InbuiltMaxHeap()\n",
    "max_heap.insert(10)\n",
    "max_heap.insert(20)\n",
    "max_heap.insert(30)\n",
    "max_heap.insert(4)\n",
    "max_heap.insert(25)\n",
    "\n",
    "print(\"Heap:\", max_heap.get_heap())  # [30, 25, 20, 4, 10]\n",
    "print(\"Deleted:\", max_heap.delete())  # 30 (max element)\n",
    "print(\"Heap after delete:\", max_heap.get_heap())  # [25, 10, 20, 4]\n",
    "\n",
    "# Building heap from list\n",
    "max_heap.build_heap([3, 1, 5, 10, 2])\n",
    "print(\"Built Heap:\", max_heap.get_heap())  # [10, 3, 5, 1, 2]\n",
    "\n",
    "# Heap Sort\n",
    "print(\"Heap Sort Result:\", max_heap.heap_sort())  # [10, 5, 3, 2, 1]\n"
   ]
  },
  {
   "cell_type": "code",
   "execution_count": null,
   "id": "b94ac8ca-2221-4b51-bbdf-f32be0ef858d",
   "metadata": {},
   "outputs": [],
   "source": []
  }
 ],
 "metadata": {
  "kernelspec": {
   "display_name": "Python 3 (ipykernel)",
   "language": "python",
   "name": "python3"
  },
  "language_info": {
   "codemirror_mode": {
    "name": "ipython",
    "version": 3
   },
   "file_extension": ".py",
   "mimetype": "text/x-python",
   "name": "python",
   "nbconvert_exporter": "python",
   "pygments_lexer": "ipython3",
   "version": "3.12.7"
  }
 },
 "nbformat": 4,
 "nbformat_minor": 5
}
