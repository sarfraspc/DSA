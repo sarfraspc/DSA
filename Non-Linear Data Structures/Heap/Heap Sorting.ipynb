{
 "cells": [
  {
   "cell_type": "markdown",
   "id": "2cca92cf-2c35-421b-84d9-919d73050eb6",
   "metadata": {},
   "source": [
    "# Heap Sorting"
   ]
  },
  {
   "cell_type": "markdown",
   "id": "9c472e70-561a-4016-adc9-e82d4f0cbd42",
   "metadata": {},
   "source": [
    "## Ascending"
   ]
  },
  {
   "cell_type": "code",
   "execution_count": 1,
   "id": "0a706b43-e84a-4711-99fb-dc847112d7d3",
   "metadata": {},
   "outputs": [
    {
     "name": "stdout",
     "output_type": "stream",
     "text": [
      "[11, 9, 10, 4, 5, 1, 2]\n",
      "[1, 2, 4, 5, 9, 10, 11]\n"
     ]
    }
   ],
   "source": [
    "def heapify(arr, n, i):\n",
    "    largest = i\n",
    "    left_node = i*2 + 1\n",
    "    right_node = i*2 + 2\n",
    "    if left_node < n and arr[left_node] > arr[largest]:\n",
    "        largest = left_node\n",
    "    if right_node < n and arr[right_node] > arr[largest]:\n",
    "        largest = right_node\n",
    "    if largest != i:\n",
    "        arr[largest], arr[i] = arr[i], arr[largest]\n",
    "        heapify(arr, n, largest)\n",
    "\n",
    "\n",
    "def heap_sort(arr):\n",
    "    n = len(arr)\n",
    "    ran = (len(arr) // 2) - 1\n",
    "    for i in range(ran, -1, -1):\n",
    "        heapify(arr, n, i)\n",
    "    print(arr)\n",
    "    for i in range(n-1, 0, -1):\n",
    "        arr[i], arr[0] = arr[0], arr[i]\n",
    "        heapify(arr, i, 0)\n",
    "\n",
    "\n",
    "arr = [4, 5, 1, 9, 11, 10, 2]\n",
    "heap_sort(arr)\n",
    "print(arr)"
   ]
  },
  {
   "cell_type": "markdown",
   "id": "3817728c-b02b-4025-8fa1-2fba03856dab",
   "metadata": {},
   "source": [
    "## descending"
   ]
  },
  {
   "cell_type": "code",
   "execution_count": 2,
   "id": "fc64eadf-f713-40d2-8cd7-cb02f492ae2d",
   "metadata": {},
   "outputs": [
    {
     "name": "stdout",
     "output_type": "stream",
     "text": [
      "[10, 9, 5, 3, 1, 0]\n"
     ]
    }
   ],
   "source": [
    "def heapify(arr, n, i):\n",
    "    smallest = i\n",
    "    left_idx = i * 2 + 1\n",
    "    right_idx = i * 2 + 2\n",
    "    if left_idx < n and arr[left_idx] < arr[smallest]:\n",
    "        smallest = left_idx\n",
    "    if right_idx < n and arr[right_idx] < arr[smallest]:\n",
    "        smallest = right_idx\n",
    "    if smallest != i:\n",
    "        arr[smallest], arr[i] = arr[i], arr[smallest]\n",
    "        heapify(arr, n, smallest)\n",
    "\n",
    "\n",
    "def heap_sort(arr):\n",
    "    n = len(arr)\n",
    "    ran = n // 2 - 1\n",
    "    for i in range(ran, -1, -1):\n",
    "        heapify(arr, n, i)\n",
    "    for i in range(n-1,0,-1):\n",
    "        arr[i], arr[0] = arr[0], arr[i]\n",
    "        heapify(arr, i, 0)\n",
    "arr = [1,5,0,9,10,3]\n",
    "heap_sort(arr)\n",
    "print(arr)"
   ]
  },
  {
   "cell_type": "code",
   "execution_count": null,
   "id": "16c5a831-7416-4707-84a2-a185d41630a5",
   "metadata": {},
   "outputs": [],
   "source": []
  }
 ],
 "metadata": {
  "kernelspec": {
   "display_name": "Python 3 (ipykernel)",
   "language": "python",
   "name": "python3"
  },
  "language_info": {
   "codemirror_mode": {
    "name": "ipython",
    "version": 3
   },
   "file_extension": ".py",
   "mimetype": "text/x-python",
   "name": "python",
   "nbconvert_exporter": "python",
   "pygments_lexer": "ipython3",
   "version": "3.12.7"
  }
 },
 "nbformat": 4,
 "nbformat_minor": 5
}
