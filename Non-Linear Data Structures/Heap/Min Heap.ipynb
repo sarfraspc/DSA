{
 "cells": [
  {
   "cell_type": "markdown",
   "id": "2c3a684c-e15d-4bb9-a231-422a097a2e7b",
   "metadata": {},
   "source": [
    "# MIN HEAP"
   ]
  },
  {
   "cell_type": "code",
   "execution_count": 4,
   "id": "1a923060-4c71-4fe7-a1b9-05d16b8bab0e",
   "metadata": {},
   "outputs": [
    {
     "name": "stdout",
     "output_type": "stream",
     "text": [
      "Heap after insertions: [1, 3, 5, 10, 8]\n",
      "Peek top element: 1\n",
      "Deleted root: 1\n",
      "Heap after deletion: [3, 8, 5, 10]\n",
      "Is heap empty? False\n",
      "Heap size: 4\n",
      "Heap after clearing: []\n"
     ]
    }
   ],
   "source": [
    "class MinHeap:\n",
    "    def __init__(self) -> None:\n",
    "        self.heap = []\n",
    "\n",
    "    def insert(self, val):\n",
    "        self.heap.append(val)\n",
    "        self.heapify_up(len(self.heap) - 1)\n",
    "\n",
    "    def heapify_up(self, idx):\n",
    "        parent_idx = (idx - 1) // 2\n",
    "        if idx > 0 and self.heap[parent_idx] > self.heap[idx]:\n",
    "            self.heap[parent_idx], self.heap[idx] = self.heap[idx], self.heap[parent_idx]\n",
    "            self.heapify_up(parent_idx)\n",
    "\n",
    "    def delete(self):\n",
    "        if not self.heap:\n",
    "            return None\n",
    "        if len(self.heap) == 1:\n",
    "            return self.heap.pop()\n",
    "        root_node = self.heap[0]\n",
    "        self.heap[0] = self.heap.pop()\n",
    "        self.heapify_down(0)\n",
    "        return root_node\n",
    "\n",
    "    def heapify_down(self, index):\n",
    "        smallest = index\n",
    "        left_child = (2*index) + 1\n",
    "        right_child = (2*index) + 2\n",
    "        if left_child < len(self.heap) and self.heap[smallest] > self.heap[left_child]:\n",
    "            smallest = left_child\n",
    "        if right_child < len(self.heap) and self.heap[smallest] > self.heap[right_child]:\n",
    "            smallest = right_child\n",
    "        if smallest != index:\n",
    "            self.heap[smallest], self.heap[index] = self.heap[index], self.heap[smallest]\n",
    "            self.heapify_down(smallest)\n",
    "\n",
    "    def peek(self):\n",
    "        if not self.heap:\n",
    "            return None\n",
    "        return self.heap[0]\n",
    "\n",
    "    def size(self):\n",
    "        return len(self.heap)\n",
    "\n",
    "    def get_heap(self):\n",
    "        return self.heap\n",
    "\n",
    "    def clear(self):\n",
    "        self.heap = []\n",
    "\n",
    "    def isEmpty(self):\n",
    "        return len(self.heap) == 0\n",
    "\n",
    "h = MinHeap()\n",
    "h.insert(10)\n",
    "h.insert(5)\n",
    "h.insert(3)\n",
    "h.insert(8)\n",
    "h.insert(1)\n",
    "\n",
    "print(\"Heap after insertions:\", h.get_heap())  \n",
    "\n",
    "print(\"Peek top element:\", h.peek())  \n",
    "\n",
    "print(\"Deleted root:\", h.delete())    \n",
    "print(\"Heap after deletion:\", h.get_heap())\n",
    "\n",
    "print(\"Is heap empty?\", h.isEmpty())  \n",
    "\n",
    "print(\"Heap size:\", h.size())         \n",
    "\n",
    "h.clear()\n",
    "print(\"Heap after clearing:\", h.get_heap())  \n"
   ]
  },
  {
   "cell_type": "code",
   "execution_count": null,
   "id": "3d92575f-c1b6-4308-ad5e-1e385548c81b",
   "metadata": {},
   "outputs": [],
   "source": []
  }
 ],
 "metadata": {
  "kernelspec": {
   "display_name": "Python 3 (ipykernel)",
   "language": "python",
   "name": "python3"
  },
  "language_info": {
   "codemirror_mode": {
    "name": "ipython",
    "version": 3
   },
   "file_extension": ".py",
   "mimetype": "text/x-python",
   "name": "python",
   "nbconvert_exporter": "python",
   "pygments_lexer": "ipython3",
   "version": "3.12.7"
  }
 },
 "nbformat": 4,
 "nbformat_minor": 5
}
